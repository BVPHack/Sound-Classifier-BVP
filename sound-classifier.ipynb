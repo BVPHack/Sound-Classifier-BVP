{
 "cells": [
  {
   "cell_type": "code",
   "execution_count": 4,
   "metadata": {},
   "outputs": [
    {
     "name": "stdout",
     "output_type": "stream",
     "text": [
      "Populating the interactive namespace from numpy and matplotlib\n"
     ]
    }
   ],
   "source": [
    "% pylab inline\n",
    "import os\n",
    "import pandas as pd\n",
    "import librosa\n",
    "import librosa.display\n",
    "import glob \n",
    "import matplotlib.pyplot as plt\n",
    "from matplotlib.pyplot import specgram"
   ]
  },
  {
   "cell_type": "code",
   "execution_count": 5,
   "metadata": {},
   "outputs": [],
   "source": [
    "data, sampling_rate = librosa.load('gun.wav')"
   ]
  },
  {
   "cell_type": "code",
   "execution_count": 6,
   "metadata": {},
   "outputs": [
    {
     "data": {
      "text/plain": [
       "<matplotlib.collections.PolyCollection at 0x1ef4fe83828>"
      ]
     },
     "execution_count": 6,
     "metadata": {},
     "output_type": "execute_result"
    },
    {
     "data": {
      "image/png": "[encoded data removed]",
      "text/plain": [
       "<Figure size 864x288 with 1 Axes>"
      ]
     },
     "metadata": {},
     "output_type": "display_data"
    }
   ],
   "source": [
    "plt.figure(figsize=(12, 4))\n",
    "librosa.display.waveplot(data, sr=sampling_rate)"
   ]
  },
  {
   "cell_type": "code",
   "execution_count": 7,
   "metadata": {},
   "outputs": [],
   "source": [
    "def load_sound_files(file_paths):\n",
    "    raw_sounds = []\n",
    "    for fp in file_paths:\n",
    "        X,sr = librosa.load(fp)\n",
    "        raw_sounds.append(X)\n",
    "    return raw_sounds"
   ]
  },
  {
   "cell_type": "code",
   "execution_count": 8,
   "metadata": {},
   "outputs": [],
   "source": [
    "sound_file_paths = [\"gun.wav\", \"bird.wav\"]\n",
    "sound_names = [\"gun\", \"bird\"]"
   ]
  },
  {
   "cell_type": "code",
   "execution_count": 9,
   "metadata": {},
   "outputs": [],
   "source": [
    "raw_sounds = load_sound_files(sound_file_paths)"
   ]
  },
  {
   "cell_type": "code",
   "execution_count": 10,
   "metadata": {},
   "outputs": [],
   "source": [
    "def extract_feature(file_name):\n",
    "    X, sample_rate = librosa.load(file_name)\n",
    "    stft = np.abs(librosa.stft(X))\n",
    "    mfccs = np.mean(librosa.feature.mfcc(y=X, sr=sample_rate, n_mfcc=40).T,axis=0)\n",
    "    chroma = np.mean(librosa.feature.chroma_stft(S=stft, sr=sample_rate).T,axis=0)\n",
    "    mel = np.mean(librosa.feature.melspectrogram(X, sr=sample_rate).T,axis=0)\n",
    "    contrast = np.mean(librosa.feature.spectral_contrast(S=stft, sr=sample_rate).T,axis=0)\n",
    "    tonnetz = np.mean(librosa.feature.tonnetz(y=librosa.effects.harmonic(X), sr=sample_rate).T,axis=0)\n",
    "    return mfccs,chroma,mel,contrast,tonnetz\n",
    "\n",
    "def parse_audio_files(parent_dir,sub_dirs,file_ext='*.wav'):\n",
    "    features, labels = np.empty((0,193)), np.empty(0)\n",
    "    for label, sub_dir in enumerate(sub_dirs):\n",
    "        for fn in glob.glob(os.path.join(parent_dir, sub_dir, file_ext)):\n",
    "            mfccs, chroma, mel, contrast,tonnetz = extract_feature(fn)\n",
    "            ext_features = np.hstack([mfccs,chroma,mel,contrast,tonnetz])\n",
    "            features = np.vstack([features,ext_features])\n",
    "            labels = np.append(labels, fn.split('/')[2].split('-')[1])\n",
    "    return np.array(features), np.array(labels, dtype = np.int)\n",
    "\n",
    "def one_hot_encode(labels):\n",
    "    n_labels = len(labels)\n",
    "    n_unique_labels = len(np.unique(labels))\n",
    "    one_hot_encode = np.zeros((n_labels,n_unique_labels))\n",
    "    one_hot_encode[np.arange(n_labels), labels] = 1\n",
    "    return one_hot_encode"
   ]
  },
  {
   "cell_type": "code",
   "execution_count": 19,
   "metadata": {},
   "outputs": [
    {
     "data": {
      "text/plain": [
       "['bird-0.wav', 'birds-0.wav', 'gun-1.wav', 'guns-1.wav']"
      ]
     },
     "execution_count": 19,
     "metadata": {},
     "output_type": "execute_result"
    }
   ],
   "source": [
    "sounds_list = glob.glob(\"Sound-Data/fold1/*.wav\")\n",
    "sounds_list\n",
    "directory = os.listdir(\"Sound-Data/fold1\")\n",
    "features = []\n",
    "labels = []\n",
    "directory"
   ]
  },
  {
   "cell_type": "code",
   "execution_count": 28,
   "metadata": {},
   "outputs": [],
   "source": [
    "for i in directory:\n",
    "    X, sample_rate = librosa.load(\"Sound-Data/fold1/\"+i, res_type='kaiser_fast') \n",
    "    mfccs = np.mean(librosa.feature.mfcc(y=X, sr=sample_rate, n_mfcc=40).T,axis=0) \n",
    "    feature = mfccs\n",
    "    label = i.split('-')[1].split('.')[0]\n",
    "    features.append(feature)\n",
    "    labels.append(label)"
   ]
  },
  {
   "cell_type": "code",
   "execution_count": 31,
   "metadata": {},
   "outputs": [
    {
     "data": {
      "text/plain": [
       "[array([  46.77399078,  173.03778721, -163.10981022,   90.63885019,\n",
       "         -15.01526159,  -26.34029847,   37.42502322,  -28.58790113,\n",
       "          18.8218193 ,   -4.70718196,   -9.23804157,   20.58849111,\n",
       "         -17.03273789,   10.01994658,    3.49439883,   -8.44563896,\n",
       "          11.86985658,   -8.50082437,    3.04433212,    3.27852877,\n",
       "          -4.43521907,    7.16218969,   -3.45086673,    3.19792962,\n",
       "           1.51530292,   -2.94815273,    5.21475851,   -3.50209842,\n",
       "           1.91530307,    1.7798514 ,   -2.10945906,    4.54969687,\n",
       "          -1.40570753,    1.31815984,    1.22360945,   -1.22117874,\n",
       "           3.09944844,   -1.85549847,    1.36362184,    2.0699671 ]),\n",
       " array([-230.91227901,   42.73055824, -118.09566921,   -2.16903271,\n",
       "         -15.29208781,   -3.79099946,  -22.98449627,  -31.46858245,\n",
       "          12.21270834,   14.90513271,    7.81428804,   28.0952415 ,\n",
       "          -1.91280598,   -4.09920068,   -7.21606264,   -0.41448892,\n",
       "           2.11915483,   -1.31312468,   -1.68565261,    9.46513101,\n",
       "          19.29174473,    1.951871  ,   -0.98674882,    4.6970649 ,\n",
       "          -2.97503976,    1.23820452,    3.1772074 ,    2.74839433,\n",
       "           2.68969598,   -1.24093232,    8.56445274,    1.31385238,\n",
       "          -5.27434507,   -2.11298294,    1.68171583,    2.98518983,\n",
       "           0.62340756,   -4.03101638,    8.31859604,    6.57437576]),\n",
       " array([-3.02970863e+02,  9.58063794e+00, -2.36784913e+01,  7.07151846e+00,\n",
       "        -1.40550188e+01,  1.79163039e+01, -2.17239346e+00,  2.26472297e+01,\n",
       "        -1.34209864e+00,  1.71934867e+01, -3.38117423e+00,  9.91550100e+00,\n",
       "        -1.21116369e+00,  9.89259606e+00,  5.30445226e-01,  1.17542309e+01,\n",
       "         4.44179987e+00,  7.51006215e+00,  2.11179325e-01,  8.13190510e+00,\n",
       "         4.67513882e+00,  8.87416545e+00,  3.54705513e+00,  8.82787916e+00,\n",
       "         2.79800000e+00,  4.93899909e+00,  1.28061375e+00,  3.76327871e+00,\n",
       "         3.46912264e+00,  6.22887251e+00, -2.22313312e-01,  5.44051433e+00,\n",
       "         3.76440145e+00,  6.42055890e+00,  5.41255391e-01,  4.31628346e+00,\n",
       "         1.17641878e+00,  3.94482658e+00,  3.45298037e+00,  4.37871735e+00]),\n",
       " array([-2.07721644e+02,  1.57908538e+01, -3.04886693e+01,  7.10578575e+00,\n",
       "        -1.73128051e+01,  2.03643224e+01, -6.37972854e-01,  2.38497896e+01,\n",
       "        -5.49560689e+00,  2.12365599e+01, -5.49371613e+00,  1.11287927e+01,\n",
       "        -5.72975763e+00,  1.01428040e+01,  2.92756393e-01,  1.59684441e+01,\n",
       "         4.92094606e+00,  8.95233201e+00, -1.05714764e+00,  8.72470125e+00,\n",
       "         2.73042855e+00,  9.38755012e+00,  2.28453433e+00,  1.08029337e+01,\n",
       "         3.76592391e+00,  5.33913232e+00,  1.01882681e+00,  3.42816108e+00,\n",
       "         2.21799176e+00,  7.32179076e+00, -1.29198232e-01,  4.60260211e+00,\n",
       "         4.72241249e+00,  4.73770669e+00, -1.64461854e+00,  4.57492796e+00,\n",
       "         6.73534328e-01,  3.53554110e+00,  4.32358458e+00,  4.31432366e+00])]"
      ]
     },
     "execution_count": 31,
     "metadata": {},
     "output_type": "execute_result"
    }
   ],
   "source": [
    "features"
   ]
  },
  {
   "cell_type": "code",
   "execution_count": 36,
   "metadata": {},
   "outputs": [
    {
     "data": {
      "text/plain": [
       "(40,)"
      ]
     },
     "execution_count": 36,
     "metadata": {},
     "output_type": "execute_result"
    }
   ],
   "source": [
    "features[1].shape"
   ]
  },
  {
   "cell_type": "code",
   "execution_count": 42,
   "metadata": {},
   "outputs": [],
   "source": [
    "from sklearn.preprocessing import LabelEncoder\n",
    "import keras\n",
    "lb = LabelEncoder()\n",
    "\n",
    "labels = keras.utils.to_categorical(lb.fit_transform(labels))"
   ]
  },
  {
   "cell_type": "code",
   "execution_count": 54,
   "metadata": {},
   "outputs": [
    {
     "data": {
      "text/plain": [
       "array([[1., 0.],\n",
       "       [1., 0.],\n",
       "       [0., 1.],\n",
       "       [0., 1.]], dtype=float32)"
      ]
     },
     "execution_count": 54,
     "metadata": {},
     "output_type": "execute_result"
    }
   ],
   "source": [
    "features = numpy.array(features)\n",
    "labels"
   ]
  },
  {
   "cell_type": "code",
   "execution_count": null,
   "metadata": {},
   "outputs": [],
   "source": []
  },
  {
   "cell_type": "code",
   "execution_count": 44,
   "metadata": {},
   "outputs": [],
   "source": [
    "import numpy as np\n",
    "from keras.models import Sequential\n",
    "from keras.layers import Dense, Dropout, Activation, Flatten\n",
    "from keras.layers import Convolution2D, MaxPooling2D\n",
    "from keras.optimizers import Adam\n",
    "from keras.utils import np_utils\n",
    "from sklearn import metrics "
   ]
  },
  {
   "cell_type": "code",
   "execution_count": 46,
   "metadata": {},
   "outputs": [],
   "source": [
    "num_labels = labels.shape[1]\n",
    "model = Sequential()\n",
    "\n",
    "model.add(Dense(256, input_shape=(40,)))\n",
    "model.add(Activation('relu'))\n",
    "model.add(Dropout(0.5))\n",
    "\n",
    "model.add(Dense(256))\n",
    "model.add(Activation('relu'))\n",
    "model.add(Dropout(0.5))\n",
    "\n",
    "model.add(Dense(num_labels))\n",
    "model.add(Activation('sigmoid'))"
   ]
  },
  {
   "cell_type": "code",
   "execution_count": 47,
   "metadata": {},
   "outputs": [],
   "source": [
    "model.compile(loss='categorical_crossentropy', metrics=['accuracy'], optimizer='adam')"
   ]
  },
  {
   "cell_type": "code",
   "execution_count": 57,
   "metadata": {},
   "outputs": [
    {
     "name": "stdout",
     "output_type": "stream",
     "text": [
      "Epoch 1/50\n",
      "4/4 [==============================] - 0s 9ms/step - loss: 8.0686 - acc: 0.5000\n",
      "Epoch 2/50\n",
      "4/4 [==============================] - 0s 6ms/step - loss: 0.5215 - acc: 0.5000\n",
      "Epoch 3/50\n",
      "4/4 [==============================] - 0s 3ms/step - loss: 3.7997 - acc: 0.5000\n",
      "Epoch 4/50\n",
      "4/4 [==============================] - 0s 2ms/step - loss: 2.7140 - acc: 0.5000\n",
      "Epoch 5/50\n",
      "4/4 [==============================] - 0s 2ms/step - loss: 4.6558 - acc: 0.2500\n",
      "Epoch 6/50\n",
      "4/4 [==============================] - 0s 2ms/step - loss: 3.7842 - acc: 0.5000\n",
      "Epoch 7/50\n",
      "4/4 [==============================] - 0s 2ms/step - loss: 0.5563 - acc: 0.2500\n",
      "Epoch 8/50\n",
      "4/4 [==============================] - 0s 3ms/step - loss: 0.5199 - acc: 0.5000\n",
      "Epoch 9/50\n",
      "4/4 [==============================] - 0s 2ms/step - loss: 0.5199 - acc: 0.5000\n",
      "Epoch 10/50\n",
      "4/4 [==============================] - 0s 2ms/step - loss: 0.6931 - acc: 0.5000\n",
      "Epoch 11/50\n",
      "4/4 [==============================] - 0s 2ms/step - loss: 0.5199 - acc: 0.7500\n",
      "Epoch 12/50\n",
      "4/4 [==============================] - 0s 2ms/step - loss: 0.5199 - acc: 0.5000\n",
      "Epoch 13/50\n",
      "4/4 [==============================] - 0s 2ms/step - loss: 0.5199 - acc: 0.5000\n",
      "Epoch 14/50\n",
      "4/4 [==============================] - 0s 2ms/step - loss: 0.5199 - acc: 0.5000\n",
      "Epoch 15/50\n",
      "4/4 [==============================] - 0s 3ms/step - loss: 0.5128 - acc: 0.7500\n",
      "Epoch 16/50\n",
      "4/4 [==============================] - 0s 2ms/step - loss: 0.5068 - acc: 0.5000\n",
      "Epoch 17/50\n",
      "4/4 [==============================] - 0s 2ms/step - loss: 0.5199 - acc: 0.5000\n",
      "Epoch 18/50\n",
      "4/4 [==============================] - 0s 3ms/step - loss: 0.5199 - acc: 0.5000\n",
      "Epoch 19/50\n",
      "4/4 [==============================] - 0s 3ms/step - loss: 0.5199 - acc: 0.5000\n",
      "Epoch 20/50\n",
      "4/4 [==============================] - 0s 2ms/step - loss: 0.5201 - acc: 0.5000\n",
      "Epoch 21/50\n",
      "4/4 [==============================] - 0s 4ms/step - loss: 0.6931 - acc: 0.7500\n",
      "Epoch 22/50\n",
      "4/4 [==============================] - 0s 3ms/step - loss: 0.5199 - acc: 0.2500\n",
      "Epoch 23/50\n",
      "4/4 [==============================] - 0s 2ms/step - loss: 0.5199 - acc: 0.5000\n",
      "Epoch 24/50\n",
      "4/4 [==============================] - 0s 3ms/step - loss: 0.5199 - acc: 0.5000\n",
      "Epoch 25/50\n",
      "4/4 [==============================] - 0s 2ms/step - loss: 0.5199 - acc: 0.5000\n",
      "Epoch 26/50\n",
      "4/4 [==============================] - 0s 3ms/step - loss: 0.5199 - acc: 0.5000\n",
      "Epoch 27/50\n",
      "4/4 [==============================] - 0s 2ms/step - loss: 0.5198 - acc: 0.7500\n",
      "Epoch 28/50\n",
      "4/4 [==============================] - 0s 2ms/step - loss: 0.6931 - acc: 0.5000\n",
      "Epoch 29/50\n",
      "4/4 [==============================] - 0s 1ms/step - loss: 0.3466 - acc: 0.7500\n",
      "Epoch 30/50\n",
      "4/4 [==============================] - 0s 2ms/step - loss: 0.5199 - acc: 0.5000\n",
      "Epoch 31/50\n",
      "4/4 [==============================] - 0s 2ms/step - loss: 0.5199 - acc: 0.5000\n",
      "Epoch 32/50\n",
      "4/4 [==============================] - 0s 4ms/step - loss: 0.6817 - acc: 0.5000\n",
      "Epoch 33/50\n",
      "4/4 [==============================] - 0s 2ms/step - loss: 0.5370 - acc: 0.7500\n",
      "Epoch 34/50\n",
      "4/4 [==============================] - 0s 2ms/step - loss: 0.3615 - acc: 0.5000\n",
      "Epoch 35/50\n",
      "4/4 [==============================] - 0s 2ms/step - loss: 0.5199 - acc: 0.7500\n",
      "Epoch 36/50\n",
      "4/4 [==============================] - 0s 2ms/step - loss: 0.5156 - acc: 0.5000\n",
      "Epoch 37/50\n",
      "4/4 [==============================] - 0s 2ms/step - loss: 0.5199 - acc: 0.5000\n",
      "Epoch 38/50\n",
      "4/4 [==============================] - 0s 2ms/step - loss: 4.3761 - acc: 0.2500\n",
      "Epoch 39/50\n",
      "4/4 [==============================] - 0s 3ms/step - loss: 0.5199 - acc: 0.7500\n",
      "Epoch 40/50\n",
      "4/4 [==============================] - 0s 3ms/step - loss: 0.5199 - acc: 0.5000\n",
      "Epoch 41/50\n",
      "4/4 [==============================] - 0s 2ms/step - loss: 0.4813 - acc: 0.7500\n",
      "Epoch 42/50\n",
      "4/4 [==============================] - 0s 2ms/step - loss: 0.3276 - acc: 1.0000\n",
      "Epoch 43/50\n",
      "4/4 [==============================] - 0s 3ms/step - loss: 4.3761 - acc: 0.2500\n",
      "Epoch 44/50\n",
      "4/4 [==============================] - 0s 3ms/step - loss: 0.1749 - acc: 1.0000\n",
      "Epoch 45/50\n",
      "4/4 [==============================] - 0s 2ms/step - loss: 2.6546 - acc: 0.7500\n",
      "Epoch 46/50\n",
      "4/4 [==============================] - 0s 2ms/step - loss: 0.3481 - acc: 0.5000\n",
      "Epoch 47/50\n",
      "4/4 [==============================] - 0s 2ms/step - loss: 3.8579 - acc: 0.5000\n",
      "Epoch 48/50\n",
      "4/4 [==============================] - 0s 2ms/step - loss: 0.4944 - acc: 1.0000\n",
      "Epoch 49/50\n",
      "4/4 [==============================] - 0s 3ms/step - loss: 4.3404 - acc: 0.5000\n",
      "Epoch 50/50\n",
      "4/4 [==============================] - 0s 2ms/step - loss: 0.3466 - acc: 1.0000\n"
     ]
    },
    {
     "data": {
      "text/plain": [
       "<keras.callbacks.History at 0x1ef551049e8>"
      ]
     },
     "execution_count": 57,
     "metadata": {},
     "output_type": "execute_result"
    }
   ],
   "source": [
    "model.fit(features, labels, batch_size=2, epochs=50)"
   ]
  },
  {
   "cell_type": "code",
   "execution_count": 55,
   "metadata": {},
   "outputs": [
    {
     "data": {
      "text/plain": [
       "numpy.ndarray"
      ]
     },
     "execution_count": 55,
     "metadata": {},
     "output_type": "execute_result"
    }
   ],
   "source": [
    "type(features)"
   ]
  },
  {
   "cell_type": "code",
   "execution_count": null,
   "metadata": {},
   "outputs": [],
   "source": [
    "librosa.load()"
   ]
  }
 ],
 "metadata": {
  "kernelspec": {
   "display_name": "Python 3",
   "language": "python",
   "name": "python3"
  },
  "language_info": {
   "codemirror_mode": {
    "name": "ipython",
    "version": 3
   },
   "file_extension": ".py",
   "mimetype": "text/x-python",
   "name": "python",
   "nbconvert_exporter": "python",
   "pygments_lexer": "ipython3",
   "version": "3.6.5"
  }
 },
 "nbformat": 4,
 "nbformat_minor": 2
}
